{
 "cells": [
  {
   "cell_type": "code",
   "execution_count": 1,
   "id": "961e38f1",
   "metadata": {},
   "outputs": [],
   "source": [
    "import numpy as np\n",
    "import pandas as pd\n",
    "import seaborn as sns\n",
    "import matplotlib.pyplot as plt"
   ]
  },
  {
   "cell_type": "code",
   "execution_count": 2,
   "id": "e87762f2",
   "metadata": {},
   "outputs": [
    {
     "data": {
      "text/html": [
       "<div>\n",
       "<style scoped>\n",
       "    .dataframe tbody tr th:only-of-type {\n",
       "        vertical-align: middle;\n",
       "    }\n",
       "\n",
       "    .dataframe tbody tr th {\n",
       "        vertical-align: top;\n",
       "    }\n",
       "\n",
       "    .dataframe thead th {\n",
       "        text-align: right;\n",
       "    }\n",
       "</style>\n",
       "<table border=\"1\" class=\"dataframe\">\n",
       "  <thead>\n",
       "    <tr style=\"text-align: right;\">\n",
       "      <th></th>\n",
       "      <th>Restaurant ID</th>\n",
       "      <th>Restaurant Name</th>\n",
       "      <th>Country Code</th>\n",
       "      <th>City</th>\n",
       "      <th>Address</th>\n",
       "      <th>Locality</th>\n",
       "      <th>Locality Verbose</th>\n",
       "      <th>Longitude</th>\n",
       "      <th>Latitude</th>\n",
       "      <th>Cuisines</th>\n",
       "      <th>...</th>\n",
       "      <th>Currency</th>\n",
       "      <th>Has Table booking</th>\n",
       "      <th>Has Online delivery</th>\n",
       "      <th>Is delivering now</th>\n",
       "      <th>Switch to order menu</th>\n",
       "      <th>Price range</th>\n",
       "      <th>Aggregate rating</th>\n",
       "      <th>Rating color</th>\n",
       "      <th>Rating text</th>\n",
       "      <th>Votes</th>\n",
       "    </tr>\n",
       "  </thead>\n",
       "  <tbody>\n",
       "    <tr>\n",
       "      <th>0</th>\n",
       "      <td>6317637</td>\n",
       "      <td>Le Petit Souffle</td>\n",
       "      <td>162</td>\n",
       "      <td>Makati City</td>\n",
       "      <td>Third Floor, Century City Mall, Kalayaan Avenu...</td>\n",
       "      <td>Century City Mall, Poblacion, Makati City</td>\n",
       "      <td>Century City Mall, Poblacion, Makati City, Mak...</td>\n",
       "      <td>121.027535</td>\n",
       "      <td>14.565443</td>\n",
       "      <td>French, Japanese, Desserts</td>\n",
       "      <td>...</td>\n",
       "      <td>Botswana Pula(P)</td>\n",
       "      <td>Yes</td>\n",
       "      <td>No</td>\n",
       "      <td>No</td>\n",
       "      <td>No</td>\n",
       "      <td>3</td>\n",
       "      <td>4.8</td>\n",
       "      <td>Dark Green</td>\n",
       "      <td>Excellent</td>\n",
       "      <td>314</td>\n",
       "    </tr>\n",
       "    <tr>\n",
       "      <th>1</th>\n",
       "      <td>6304287</td>\n",
       "      <td>Izakaya Kikufuji</td>\n",
       "      <td>162</td>\n",
       "      <td>Makati City</td>\n",
       "      <td>Little Tokyo, 2277 Chino Roces Avenue, Legaspi...</td>\n",
       "      <td>Little Tokyo, Legaspi Village, Makati City</td>\n",
       "      <td>Little Tokyo, Legaspi Village, Makati City, Ma...</td>\n",
       "      <td>121.014101</td>\n",
       "      <td>14.553708</td>\n",
       "      <td>Japanese</td>\n",
       "      <td>...</td>\n",
       "      <td>Botswana Pula(P)</td>\n",
       "      <td>Yes</td>\n",
       "      <td>No</td>\n",
       "      <td>No</td>\n",
       "      <td>No</td>\n",
       "      <td>3</td>\n",
       "      <td>4.5</td>\n",
       "      <td>Dark Green</td>\n",
       "      <td>Excellent</td>\n",
       "      <td>591</td>\n",
       "    </tr>\n",
       "    <tr>\n",
       "      <th>2</th>\n",
       "      <td>6300002</td>\n",
       "      <td>Heat - Edsa Shangri-La</td>\n",
       "      <td>162</td>\n",
       "      <td>Mandaluyong City</td>\n",
       "      <td>Edsa Shangri-La, 1 Garden Way, Ortigas, Mandal...</td>\n",
       "      <td>Edsa Shangri-La, Ortigas, Mandaluyong City</td>\n",
       "      <td>Edsa Shangri-La, Ortigas, Mandaluyong City, Ma...</td>\n",
       "      <td>121.056831</td>\n",
       "      <td>14.581404</td>\n",
       "      <td>Seafood, Asian, Filipino, Indian</td>\n",
       "      <td>...</td>\n",
       "      <td>Botswana Pula(P)</td>\n",
       "      <td>Yes</td>\n",
       "      <td>No</td>\n",
       "      <td>No</td>\n",
       "      <td>No</td>\n",
       "      <td>4</td>\n",
       "      <td>4.4</td>\n",
       "      <td>Green</td>\n",
       "      <td>Very Good</td>\n",
       "      <td>270</td>\n",
       "    </tr>\n",
       "    <tr>\n",
       "      <th>3</th>\n",
       "      <td>6318506</td>\n",
       "      <td>Ooma</td>\n",
       "      <td>162</td>\n",
       "      <td>Mandaluyong City</td>\n",
       "      <td>Third Floor, Mega Fashion Hall, SM Megamall, O...</td>\n",
       "      <td>SM Megamall, Ortigas, Mandaluyong City</td>\n",
       "      <td>SM Megamall, Ortigas, Mandaluyong City, Mandal...</td>\n",
       "      <td>121.056475</td>\n",
       "      <td>14.585318</td>\n",
       "      <td>Japanese, Sushi</td>\n",
       "      <td>...</td>\n",
       "      <td>Botswana Pula(P)</td>\n",
       "      <td>No</td>\n",
       "      <td>No</td>\n",
       "      <td>No</td>\n",
       "      <td>No</td>\n",
       "      <td>4</td>\n",
       "      <td>4.9</td>\n",
       "      <td>Dark Green</td>\n",
       "      <td>Excellent</td>\n",
       "      <td>365</td>\n",
       "    </tr>\n",
       "    <tr>\n",
       "      <th>4</th>\n",
       "      <td>6314302</td>\n",
       "      <td>Sambo Kojin</td>\n",
       "      <td>162</td>\n",
       "      <td>Mandaluyong City</td>\n",
       "      <td>Third Floor, Mega Atrium, SM Megamall, Ortigas...</td>\n",
       "      <td>SM Megamall, Ortigas, Mandaluyong City</td>\n",
       "      <td>SM Megamall, Ortigas, Mandaluyong City, Mandal...</td>\n",
       "      <td>121.057508</td>\n",
       "      <td>14.584450</td>\n",
       "      <td>Japanese, Korean</td>\n",
       "      <td>...</td>\n",
       "      <td>Botswana Pula(P)</td>\n",
       "      <td>Yes</td>\n",
       "      <td>No</td>\n",
       "      <td>No</td>\n",
       "      <td>No</td>\n",
       "      <td>4</td>\n",
       "      <td>4.8</td>\n",
       "      <td>Dark Green</td>\n",
       "      <td>Excellent</td>\n",
       "      <td>229</td>\n",
       "    </tr>\n",
       "  </tbody>\n",
       "</table>\n",
       "<p>5 rows × 21 columns</p>\n",
       "</div>"
      ],
      "text/plain": [
       "   Restaurant ID         Restaurant Name  Country Code              City  \\\n",
       "0        6317637        Le Petit Souffle           162       Makati City   \n",
       "1        6304287        Izakaya Kikufuji           162       Makati City   \n",
       "2        6300002  Heat - Edsa Shangri-La           162  Mandaluyong City   \n",
       "3        6318506                    Ooma           162  Mandaluyong City   \n",
       "4        6314302             Sambo Kojin           162  Mandaluyong City   \n",
       "\n",
       "                                             Address  \\\n",
       "0  Third Floor, Century City Mall, Kalayaan Avenu...   \n",
       "1  Little Tokyo, 2277 Chino Roces Avenue, Legaspi...   \n",
       "2  Edsa Shangri-La, 1 Garden Way, Ortigas, Mandal...   \n",
       "3  Third Floor, Mega Fashion Hall, SM Megamall, O...   \n",
       "4  Third Floor, Mega Atrium, SM Megamall, Ortigas...   \n",
       "\n",
       "                                     Locality  \\\n",
       "0   Century City Mall, Poblacion, Makati City   \n",
       "1  Little Tokyo, Legaspi Village, Makati City   \n",
       "2  Edsa Shangri-La, Ortigas, Mandaluyong City   \n",
       "3      SM Megamall, Ortigas, Mandaluyong City   \n",
       "4      SM Megamall, Ortigas, Mandaluyong City   \n",
       "\n",
       "                                    Locality Verbose   Longitude   Latitude  \\\n",
       "0  Century City Mall, Poblacion, Makati City, Mak...  121.027535  14.565443   \n",
       "1  Little Tokyo, Legaspi Village, Makati City, Ma...  121.014101  14.553708   \n",
       "2  Edsa Shangri-La, Ortigas, Mandaluyong City, Ma...  121.056831  14.581404   \n",
       "3  SM Megamall, Ortigas, Mandaluyong City, Mandal...  121.056475  14.585318   \n",
       "4  SM Megamall, Ortigas, Mandaluyong City, Mandal...  121.057508  14.584450   \n",
       "\n",
       "                           Cuisines  ...          Currency Has Table booking  \\\n",
       "0        French, Japanese, Desserts  ...  Botswana Pula(P)               Yes   \n",
       "1                          Japanese  ...  Botswana Pula(P)               Yes   \n",
       "2  Seafood, Asian, Filipino, Indian  ...  Botswana Pula(P)               Yes   \n",
       "3                   Japanese, Sushi  ...  Botswana Pula(P)                No   \n",
       "4                  Japanese, Korean  ...  Botswana Pula(P)               Yes   \n",
       "\n",
       "  Has Online delivery Is delivering now Switch to order menu Price range  \\\n",
       "0                  No                No                   No           3   \n",
       "1                  No                No                   No           3   \n",
       "2                  No                No                   No           4   \n",
       "3                  No                No                   No           4   \n",
       "4                  No                No                   No           4   \n",
       "\n",
       "   Aggregate rating  Rating color Rating text Votes  \n",
       "0               4.8    Dark Green   Excellent   314  \n",
       "1               4.5    Dark Green   Excellent   591  \n",
       "2               4.4         Green   Very Good   270  \n",
       "3               4.9    Dark Green   Excellent   365  \n",
       "4               4.8    Dark Green   Excellent   229  \n",
       "\n",
       "[5 rows x 21 columns]"
      ]
     },
     "execution_count": 2,
     "metadata": {},
     "output_type": "execute_result"
    }
   ],
   "source": [
    "df=pd.read_csv(r\"C:\\data science\\cognifyz.csv\")\n",
    "df.head()"
   ]
  },
  {
   "cell_type": "code",
   "execution_count": 3,
   "id": "0d4c7fa7",
   "metadata": {},
   "outputs": [],
   "source": [
    "b_df=df[(df['Has Table booking']=='Yes')&(df['Has Online delivery']=='Yes')]"
   ]
  },
  {
   "cell_type": "code",
   "execution_count": 4,
   "id": "bdb8a0e1",
   "metadata": {},
   "outputs": [
    {
     "name": "stdout",
     "output_type": "stream",
     "text": [
      "                       Restaurant Name Has Table booking Has Online delivery\n",
      "566                     Pizza Di Rocco               Yes                 Yes\n",
      "571   Cho Gao - Crowne Plaza Abu Dhabi               Yes                 Yes\n",
      "572                             Gazebo               Yes                 Yes\n",
      "578                   Indian By Nature               Yes                 Yes\n",
      "585                      Maharaja Bhog               Yes                 Yes\n",
      "...                                ...               ...                 ...\n",
      "9166                           Chili's               Yes                 Yes\n",
      "9168                        Blue Water               Yes                 Yes\n",
      "9170                   Tales & Spirits               Yes                 Yes\n",
      "9171           18 Degrees Resto Lounge               Yes                 Yes\n",
      "9194                    Saffron Mantra               Yes                 Yes\n",
      "\n",
      "[435 rows x 3 columns]\n"
     ]
    }
   ],
   "source": [
    "print(b_df[['Restaurant Name','Has Table booking','Has Online delivery']])"
   ]
  },
  {
   "cell_type": "code",
   "execution_count": 5,
   "id": "94bcfb3b",
   "metadata": {},
   "outputs": [],
   "source": [
    "percent_b=(len(b_df)/len(df))*100"
   ]
  },
  {
   "cell_type": "code",
   "execution_count": 6,
   "id": "204f082e",
   "metadata": {},
   "outputs": [
    {
     "name": "stdout",
     "output_type": "stream",
     "text": [
      "\n",
      "Percentage of restaurants offering both services:4.55%\n"
     ]
    }
   ],
   "source": [
    "print(f\"\\nPercentage of restaurants offering both services:{percent_b:.2f}%\")"
   ]
  },
  {
   "cell_type": "code",
   "execution_count": 7,
   "id": "4e088b9a",
   "metadata": {},
   "outputs": [],
   "source": [
    "avg_ra_with_tableb = df[df['Has Table booking'] == 'Yes']['Aggregate rating'].mean()"
   ]
  },
  {
   "cell_type": "code",
   "execution_count": 8,
   "id": "02e0567c",
   "metadata": {},
   "outputs": [],
   "source": [
    "avg_ra_without_tableb= df[df['Has Table booking'] == 'No']['Aggregate rating'].mean()"
   ]
  },
  {
   "cell_type": "code",
   "execution_count": 9,
   "id": "0ff6a78a",
   "metadata": {},
   "outputs": [
    {
     "name": "stdout",
     "output_type": "stream",
     "text": [
      "Average rating for restaurants with table booking: 3.44\n",
      "Average rating for restaurants without table booking: 2.56\n"
     ]
    }
   ],
   "source": [
    "print(f\"Average rating for restaurants with table booking: {avg_ra_with_tableb:.2f}\")\n",
    "print(f\"Average rating for restaurants without table booking: {avg_ra_without_tableb:.2f}\")"
   ]
  },
  {
   "cell_type": "code",
   "execution_count": 10,
   "id": "9594c4a1",
   "metadata": {},
   "outputs": [
    {
     "name": "stdout",
     "output_type": "stream",
     "text": [
      "Percentage of restaurants with online delivery by price range:\n",
      "Has Online delivery         No        Yes\n",
      "Price range                              \n",
      "1                    84.225923  15.774077\n",
      "2                    58.689367  41.310633\n",
      "3                    70.809659  29.190341\n",
      "4                    90.955631   9.044369\n"
     ]
    }
   ],
   "source": [
    "delivery_by_price_range = df.groupby('Price range')['Has Online delivery'].value_counts(normalize=True).unstack()\n",
    "print(\"Percentage of restaurants with online delivery by price range:\")\n",
    "print(delivery_by_price_range * 100)"
   ]
  },
  {
   "cell_type": "code",
   "execution_count": 13,
   "id": "9c340305",
   "metadata": {},
   "outputs": [
    {
     "data": {
      "image/png": "[encoded data removed]",
      "text/plain": [
       "<Figure size 1000x600 with 1 Axes>"
      ]
     },
     "metadata": {},
     "output_type": "display_data"
    }
   ],
   "source": [
    "sns.set(style=\"whitegrid\")\n",
    "plt.figure(figsize=(10, 6))\n",
    "sns.barplot(x='Price range', y='Has Online delivery', data=df, hue='Has Online delivery',errorbar=None)\n",
    "plt.title('Online Delivery Availability by Price Range')\n",
    "plt.xlabel('Price Range')\n",
    "plt.ylabel('Percentage of Restaurants with Online Delivery')\n",
    "plt.show()"
   ]
  },
  {
   "cell_type": "code",
   "execution_count": 14,
   "id": "a0023ec4",
   "metadata": {},
   "outputs": [
    {
     "name": "stdout",
     "output_type": "stream",
     "text": [
      "The most common price range among all the restaurants is: 1\n"
     ]
    }
   ],
   "source": [
    "cm_price_rg = df['Price range'].mode().values[0]\n",
    "print(f\"The most common price range among all the restaurants is: {cm_price_rg}\")"
   ]
  },
  {
   "cell_type": "code",
   "execution_count": 15,
   "id": "f0ef7beb",
   "metadata": {},
   "outputs": [
    {
     "name": "stdout",
     "output_type": "stream",
     "text": [
      "Average rating for each price range:\n",
      "Price range\n",
      "1    1.999887\n",
      "2    2.941054\n",
      "3    3.683381\n",
      "4    3.817918\n",
      "Name: Aggregate rating, dtype: float64\n"
     ]
    }
   ],
   "source": [
    "avg_rat = df.groupby('Price range')['Aggregate rating'].mean()\n",
    "print(\"Average rating for each price range:\")\n",
    "print(avg_rat)"
   ]
  },
  {
   "cell_type": "code",
   "execution_count": 16,
   "id": "bf84947a",
   "metadata": {},
   "outputs": [],
   "source": [
    "avg_rating_by_price = df.groupby('Price range')['Aggregate rating'].mean().reset_index()"
   ]
  },
  {
   "cell_type": "code",
   "execution_count": 18,
   "id": "7ac6cfef",
   "metadata": {},
   "outputs": [
    {
     "data": {
      "image/png": "[encoded data removed]",
      "text/plain": [
       "<Figure size 1000x600 with 1 Axes>"
      ]
     },
     "metadata": {},
     "output_type": "display_data"
    }
   ],
   "source": [
    "plt.figure(figsize=(10, 6))\n",
    "sns.barplot(x='Price range', y='Aggregate rating', data=avg_rating_by_price, palette='viridis',hue='Price range',legend=False)\n",
    "plt.title('Average Rating by Price Range')\n",
    "plt.xlabel('Price Range')\n",
    "plt.ylabel('Average Rating')\n",
    "plt.show()"
   ]
  },
  {
   "cell_type": "code",
   "execution_count": 19,
   "id": "0cbf8e22",
   "metadata": {},
   "outputs": [
    {
     "name": "stdout",
     "output_type": "stream",
     "text": [
      "The color representing the highest average rating is associated with the price range: 4\n"
     ]
    }
   ],
   "source": [
    "max_avg_rating = avg_rating_by_price['Aggregate rating'].max()\n",
    "max_avg_rating_price = avg_rating_by_price[avg_rating_by_price['Aggregate rating'] == max_avg_rating]['Price range'].values[0]\n",
    "print(f\"The color representing the highest average rating is associated with the price range: {max_avg_rating_price}\")"
   ]
  },
  {
   "cell_type": "code",
   "execution_count": 20,
   "id": "8dc30c0b",
   "metadata": {},
   "outputs": [
    {
     "name": "stdout",
     "output_type": "stream",
     "text": [
      "               Restaurant Name  name_length  \\\n",
      "0             Le Petit Souffle           16   \n",
      "1             Izakaya Kikufuji           16   \n",
      "2       Heat - Edsa Shangri-La           22   \n",
      "3                         Ooma            4   \n",
      "4                  Sambo Kojin           11   \n",
      "...                        ...          ...   \n",
      "9546               Naml۱ Gurme           11   \n",
      "9547              Ceviz A��ac۱           12   \n",
      "9548                     Huqqa            5   \n",
      "9549               A���k Kahve           11   \n",
      "9550  Walter's Coffee Roastery           24   \n",
      "\n",
      "                                                Address  address_length  \n",
      "0     Third Floor, Century City Mall, Kalayaan Avenu...              71  \n",
      "1     Little Tokyo, 2277 Chino Roces Avenue, Legaspi...              67  \n",
      "2     Edsa Shangri-La, 1 Garden Way, Ortigas, Mandal...              56  \n",
      "3     Third Floor, Mega Fashion Hall, SM Megamall, O...              70  \n",
      "4     Third Floor, Mega Atrium, SM Megamall, Ortigas...              64  \n",
      "...                                                 ...             ...  \n",
      "9546  Kemanke�� Karamustafa Pa��a Mahallesi, R۱ht۱m ...             103  \n",
      "9547  Ko��uyolu Mahallesi, Muhittin ��st�_nda�� Cadd...              77  \n",
      "9548  Kuru�_e��me Mahallesi, Muallim Naci Caddesi, N...              73  \n",
      "9549  Kuru�_e��me Mahallesi, Muallim Naci Caddesi, N...              75  \n",
      "9550  Cafea��a Mahallesi, Bademalt۱ Sokak, No 21/B, ...              65  \n",
      "\n",
      "[9551 rows x 4 columns]\n"
     ]
    }
   ],
   "source": [
    "df['name_length'] = df['Restaurant Name'].apply(len)\n",
    "df['address_length'] = df['Address'].apply(len)\n",
    "print(df[['Restaurant Name', 'name_length', 'Address', 'address_length']])"
   ]
  },
  {
   "cell_type": "code",
   "execution_count": 21,
   "id": "ecd46056",
   "metadata": {},
   "outputs": [
    {
     "name": "stdout",
     "output_type": "stream",
     "text": [
      "     Has Table booking  Has_Table_booking Has Online delivery  \\\n",
      "0                  Yes               True                  No   \n",
      "1                  Yes               True                  No   \n",
      "2                  Yes               True                  No   \n",
      "3                   No              False                  No   \n",
      "4                  Yes               True                  No   \n",
      "...                ...                ...                 ...   \n",
      "9546                No              False                  No   \n",
      "9547                No              False                  No   \n",
      "9548                No              False                  No   \n",
      "9549                No              False                  No   \n",
      "9550                No              False                  No   \n",
      "\n",
      "      Has_Online_delivery  \n",
      "0                   False  \n",
      "1                   False  \n",
      "2                   False  \n",
      "3                   False  \n",
      "4                   False  \n",
      "...                   ...  \n",
      "9546                False  \n",
      "9547                False  \n",
      "9548                False  \n",
      "9549                False  \n",
      "9550                False  \n",
      "\n",
      "[9551 rows x 4 columns]\n"
     ]
    }
   ],
   "source": [
    "df['Has_Table_booking'] = pd.get_dummies(df['Has Table booking'], drop_first=True)\n",
    "df['Has_Online_delivery'] = pd.get_dummies(df['Has Online delivery'], drop_first=True)\n",
    "print(df[['Has Table booking', 'Has_Table_booking', 'Has Online delivery', 'Has_Online_delivery']])"
   ]
  },
  {
   "cell_type": "code",
   "execution_count": null,
   "id": "77a4538e-755d-42ba-9745-c25e242a064d",
   "metadata": {},
   "outputs": [],
   "source": []
  }
 ],
 "metadata": {
  "kernelspec": {
   "display_name": "Python 3 (ipykernel)",
   "language": "python",
   "name": "python3"
  },
  "language_info": {
   "codemirror_mode": {
    "name": "ipython",
    "version": 3
   },
   "file_extension": ".py",
   "mimetype": "text/x-python",
   "name": "python",
   "nbconvert_exporter": "python",
   "pygments_lexer": "ipython3",
   "version": "3.12.1"
  }
 },
 "nbformat": 4,
 "nbformat_minor": 5
}
